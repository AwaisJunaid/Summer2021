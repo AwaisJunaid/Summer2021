{
 "cells": [
  {
   "cell_type": "code",
   "execution_count": 7,
   "id": "db1376a3",
   "metadata": {},
   "outputs": [],
   "source": [
    "import cv2"
   ]
  },
  {
   "cell_type": "code",
   "execution_count": 8,
   "id": "90984b3e",
   "metadata": {},
   "outputs": [],
   "source": [
    "img1 = cv2.imread(\"Hello there.png\")\n",
    "img2 = cv2.imread(\"Kenobi.png\")"
   ]
  },
  {
   "cell_type": "code",
   "execution_count": 9,
   "id": "841f38c1",
   "metadata": {},
   "outputs": [
    {
     "data": {
      "text/plain": [
       "(206, 499, 3)"
      ]
     },
     "execution_count": 9,
     "metadata": {},
     "output_type": "execute_result"
    }
   ],
   "source": [
    "img1.shape"
   ]
  },
  {
   "cell_type": "code",
   "execution_count": 10,
   "id": "dd8628a5",
   "metadata": {},
   "outputs": [
    {
     "data": {
      "text/plain": [
       "(209, 497, 3)"
      ]
     },
     "execution_count": 10,
     "metadata": {},
     "output_type": "execute_result"
    }
   ],
   "source": [
    "img2.shape"
   ]
  },
  {
   "cell_type": "code",
   "execution_count": 11,
   "id": "72040969",
   "metadata": {},
   "outputs": [],
   "source": [
    "cv2.imshow(\"1\",img1)\n",
    "cv2.imshow(\"2\",img2)\n",
    "cv2.waitKey()\n",
    "cv2.destroyAllWindows()"
   ]
  },
  {
   "cell_type": "code",
   "execution_count": 12,
   "id": "0d0697ce",
   "metadata": {},
   "outputs": [],
   "source": [
    "crop_img1 = img1[10:170,140:270]\n",
    "img2[20:180,297:-70] = crop_img1\n",
    "cv2.imshow(\"swap1\",img2)\n",
    "cv2.waitKey()\n",
    "cv2.destroyAllWindows()"
   ]
  },
  {
   "cell_type": "code",
   "execution_count": 13,
   "id": "8cb49d64",
   "metadata": {},
   "outputs": [],
   "source": [
    "img2 = cv2.imread(\"Kenobi.png\")\n",
    "crop_img2 = img2[20:180,297:-70]\n",
    "img1[10:170,140:270] = crop_img2\n",
    "cv2.imshow(\"swap2\",img1)\n",
    "cv2.waitKey()\n",
    "cv2.destroyAllWindows()"
   ]
  }
 ],
 "metadata": {
  "kernelspec": {
   "display_name": "Python 3",
   "language": "python",
   "name": "python3"
  },
  "language_info": {
   "codemirror_mode": {
    "name": "ipython",
    "version": 3
   },
   "file_extension": ".py",
   "mimetype": "text/x-python",
   "name": "python",
   "nbconvert_exporter": "python",
   "pygments_lexer": "ipython3",
   "version": "3.8.8"
  }
 },
 "nbformat": 4,
 "nbformat_minor": 5
}
