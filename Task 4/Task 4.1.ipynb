{
 "cells": [
  {
   "cell_type": "code",
   "execution_count": 26,
   "id": "57c91b30",
   "metadata": {},
   "outputs": [],
   "source": [
    "import numpy as np\n",
    "import cv2"
   ]
  },
  {
   "cell_type": "code",
   "execution_count": 27,
   "id": "fbc5663e",
   "metadata": {},
   "outputs": [],
   "source": [
    "photo = np.zeros((600, 500, 3))"
   ]
  },
  {
   "cell_type": "code",
   "execution_count": 28,
   "id": "a43aa790",
   "metadata": {},
   "outputs": [
    {
     "data": {
      "text/plain": [
       "(600, 500, 3)"
      ]
     },
     "execution_count": 28,
     "metadata": {},
     "output_type": "execute_result"
    }
   ],
   "source": [
    "photo.shape"
   ]
  },
  {
   "cell_type": "code",
   "execution_count": 29,
   "id": "374da514",
   "metadata": {},
   "outputs": [],
   "source": [
    "#face\n",
    "c1 = cv2.circle(photo, center=(250,175), radius=50, color=(1,1,1), thickness= 5)\n",
    "#body\n",
    "c2 = cv2.line(photo, (250, 225), (250, 400), (1, 1, 1), 5)\n",
    "#hands\n",
    "c3 = cv2.line(photo, (250, 250), (150, 350), (1, 1, 1), 5)\n",
    "c4 = cv2.line(photo, (250, 250), (350, 350), (1, 1, 1), 5)\n",
    "#legs\n",
    "c5 = cv2.line(photo, (250, 400), (150, 500), (1, 1, 1), 5)\n",
    "c6 = cv2.line(photo, (250, 400), (350, 500), (1, 1, 1), 5)"
   ]
  },
  {
   "cell_type": "code",
   "execution_count": 30,
   "id": "bcfe0763",
   "metadata": {},
   "outputs": [],
   "source": [
    "cv2.imshow(\"StickMan\", photo)\n",
    "cv2.waitKey()\n",
    "cv2.destroyAllWindows()"
   ]
  },
  {
   "cell_type": "code",
   "execution_count": null,
   "id": "d8e5621c",
   "metadata": {},
   "outputs": [],
   "source": []
  }
 ],
 "metadata": {
  "kernelspec": {
   "display_name": "Python 3",
   "language": "python",
   "name": "python3"
  },
  "language_info": {
   "codemirror_mode": {
    "name": "ipython",
    "version": 3
   },
   "file_extension": ".py",
   "mimetype": "text/x-python",
   "name": "python",
   "nbconvert_exporter": "python",
   "pygments_lexer": "ipython3",
   "version": "3.8.8"
  }
 },
 "nbformat": 4,
 "nbformat_minor": 5
}
