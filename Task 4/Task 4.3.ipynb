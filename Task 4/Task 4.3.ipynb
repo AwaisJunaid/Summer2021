{
 "cells": [
  {
   "cell_type": "code",
   "execution_count": 18,
   "id": "47c89ad3",
   "metadata": {},
   "outputs": [],
   "source": [
    "import cv2\n",
    "import numpy as np"
   ]
  },
  {
   "cell_type": "code",
   "execution_count": 19,
   "id": "fdf09307",
   "metadata": {},
   "outputs": [],
   "source": [
    "img1 = cv2.imread(\"Hello there.png\")\n",
    "img2 = cv2.imread(\"Kenobi.png\")"
   ]
  },
  {
   "cell_type": "code",
   "execution_count": 20,
   "id": "b67b86fe",
   "metadata": {},
   "outputs": [
    {
     "data": {
      "text/plain": [
       "(206, 499, 3)"
      ]
     },
     "execution_count": 20,
     "metadata": {},
     "output_type": "execute_result"
    }
   ],
   "source": [
    "img1.shape"
   ]
  },
  {
   "cell_type": "code",
   "execution_count": 21,
   "id": "6110240f",
   "metadata": {},
   "outputs": [
    {
     "data": {
      "text/plain": [
       "(209, 497, 3)"
      ]
     },
     "execution_count": 21,
     "metadata": {},
     "output_type": "execute_result"
    }
   ],
   "source": [
    "img2.shape"
   ]
  },
  {
   "cell_type": "code",
   "execution_count": 22,
   "id": "c485dbed",
   "metadata": {},
   "outputs": [],
   "source": [
    "img2 = img2[0:206,:]"
   ]
  },
  {
   "cell_type": "code",
   "execution_count": 23,
   "id": "ed7acf5d",
   "metadata": {},
   "outputs": [
    {
     "data": {
      "text/plain": [
       "(206, 497, 3)"
      ]
     },
     "execution_count": 23,
     "metadata": {},
     "output_type": "execute_result"
    }
   ],
   "source": [
    "img2.shape"
   ]
  },
  {
   "cell_type": "code",
   "execution_count": 24,
   "id": "ce55e840",
   "metadata": {},
   "outputs": [],
   "source": [
    "cv2.imshow(\"1\", img1)\n",
    "cv2.waitKey()\n",
    "cv2.destroyAllWindows()"
   ]
  },
  {
   "cell_type": "code",
   "execution_count": 25,
   "id": "afa70dc4",
   "metadata": {},
   "outputs": [],
   "source": [
    "cv2.imshow(\"2\", img2)\n",
    "cv2.waitKey()\n",
    "cv2.destroyAllWindows()"
   ]
  },
  {
   "cell_type": "code",
   "execution_count": 26,
   "id": "ab8e0f47",
   "metadata": {},
   "outputs": [],
   "source": [
    "collage = np.hstack((img1,img2))\n",
    "cv2.imshow(\"ROTS\",collage)\n",
    "cv2.waitKey()\n",
    "cv2.destroyAllWindows()"
   ]
  }
 ],
 "metadata": {
  "kernelspec": {
   "display_name": "Python 3",
   "language": "python",
   "name": "python3"
  },
  "language_info": {
   "codemirror_mode": {
    "name": "ipython",
    "version": 3
   },
   "file_extension": ".py",
   "mimetype": "text/x-python",
   "name": "python",
   "nbconvert_exporter": "python",
   "pygments_lexer": "ipython3",
   "version": "3.8.8"
  }
 },
 "nbformat": 4,
 "nbformat_minor": 5
}
